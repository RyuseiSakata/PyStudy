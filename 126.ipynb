{
 "cells": [
  {
   "cell_type": "code",
   "execution_count": 5,
   "id": "0a6a817f",
   "metadata": {},
   "outputs": [
    {
     "name": "stdout",
     "output_type": "stream",
     "text": [
      "0.951048951048951\n",
      "Best cross-validation: 1.0\n",
      "Best parameters: {'activation': 'relu', 'hidden_layer_sizes': 20, 'learning_rate_init': 0.001, 'solver': 'adam'}\n",
      "Test set score: 0.9370629370629371\n",
      "Cross-Validation scores: [0.97222222 0.97222222 0.97222222 1.         0.97142857]\n",
      "Average score: 0.9776190476190475\n"
     ]
    }
   ],
   "source": [
    "#元の値\n",
    "from sklearn import datasets\n",
    "from sklearn.model_selection import train_test_split\n",
    "from sklearn.neural_network import MLPClassifier\n",
    "from sklearn.model_selection import GridSearchCV\n",
    "from sklearn.model_selection import cross_val_score\n",
    "from sklearn.metrics import accuracy_score\n",
    "from sklearn.preprocessing import StandardScaler\n",
    "from sklearn.preprocessing import MinMaxScaler\n",
    "import numpy as np\n",
    "\n",
    "data = datasets.load_wine()\n",
    "x, y = data.data, data.target\n",
    "ms = MinMaxScaler()\n",
    "x_norm = ms.fit_transform(x)\n",
    "sc = StandardScaler()\n",
    "x_std = sc.fit_transform(x)\n",
    "x_train, x_test, y_train, y_test = train_test_split(x_std, y, test_size=0.8, stratify=y, random_state=1)\n",
    "model = MLPClassifier(max_iter=3000, random_state=1)\n",
    "model.fit(x_train, y_train)\n",
    "pred = model.predict(x_test)\n",
    "print(accuracy_score(y_test, pred))\n",
    "param_grid = {'hidden_layer_sizes': [5, 10, 20, (5, 5), (10, 10)], 'activation': ['relu', 'identity', 'logistic', 'tanh'], 'solver': ['adam', 'lbfgs', 'sgd'], 'learning_rate_init': [0.1, 0.01, 0.001]}\n",
    "grid_search = GridSearchCV(model, param_grid, cv=5)\n",
    "grid_search.fit(x_train, y_train)\n",
    "print('Best cross-validation: {}'.format(grid_search.best_score_))\n",
    "print('Best parameters: {}'.format(grid_search.best_params_))\n",
    "print('Test set score: {}'.format(grid_search.score(x_test, y_test)))\n",
    "\n",
    "GS_activation, GS_hidden_layer_sizes, GS_learning_rate_init, GS_solver = grid_search.best_params_.values()\n",
    "model = MLPClassifier(hidden_layer_sizes=[GS_hidden_layer_sizes], activation=GS_activation, solver=GS_solver, learning_rate_init=GS_learning_rate_init, max_iter=3000, random_state=1)\n",
    "scores = cross_val_score(model, x_std, y)\n",
    "\n",
    "print('Cross-Validation scores: {}'.format(scores))\n",
    "print('Average score: {}'.format(np.mean(scores)))"
   ]
  },
  {
   "cell_type": "code",
   "execution_count": 8,
   "id": "d3db36c1",
   "metadata": {},
   "outputs": [
    {
     "name": "stdout",
     "output_type": "stream",
     "text": [
      "0.951048951048951\n",
      "Best cross-validation: 1.0\n",
      "Best parameters: {'activation': 'tanh', 'hidden_layer_sizes': 50, 'learning_rate_init': 0.001, 'solver': 'adam'}\n",
      "Test set score: 0.9230769230769231\n",
      "Cross-Validation scores: [0.97222222 0.97222222 0.94444444 1.         1.        ]\n",
      "Average score: 0.9777777777777779\n"
     ]
    }
   ],
   "source": [
    "#各種値を変更した\n",
    "from sklearn import datasets\n",
    "from sklearn.model_selection import train_test_split\n",
    "from sklearn.neural_network import MLPClassifier\n",
    "from sklearn.model_selection import GridSearchCV\n",
    "from sklearn.model_selection import cross_val_score\n",
    "from sklearn.metrics import accuracy_score\n",
    "from sklearn.preprocessing import StandardScaler\n",
    "from sklearn.preprocessing import MinMaxScaler\n",
    "import numpy as np\n",
    "\n",
    "data = datasets.load_wine()\n",
    "x, y = data.data, data.target\n",
    "ms = MinMaxScaler()\n",
    "x_norm = ms.fit_transform(x)\n",
    "sc = StandardScaler()\n",
    "x_std = sc.fit_transform(x)\n",
    "x_train, x_test, y_train, y_test = train_test_split(x_std, y, test_size=0.8, stratify=y, random_state=1)\n",
    "model = MLPClassifier(max_iter=3000, random_state=1)\n",
    "model.fit(x_train, y_train)\n",
    "pred = model.predict(x_test)\n",
    "print(accuracy_score(y_test, pred))\n",
    "param_grid = {'hidden_layer_sizes': [50, 100, 200, (50, 50), (100, 100)], 'activation': ['tanh', 'tanh', 'tanh', 'tanh'], 'solver': ['adam', 'lbfgs', 'sgd'], 'learning_rate_init': [0.01, 0.001, 0.001]}\n",
    "grid_search = GridSearchCV(model, param_grid, cv=5)\n",
    "grid_search.fit(x_train, y_train)\n",
    "print('Best cross-validation: {}'.format(grid_search.best_score_))\n",
    "print('Best parameters: {}'.format(grid_search.best_params_))\n",
    "print('Test set score: {}'.format(grid_search.score(x_test, y_test)))\n",
    "\n",
    "GS_activation, GS_hidden_layer_sizes, GS_learning_rate_init, GS_solver = grid_search.best_params_.values()\n",
    "model = MLPClassifier(hidden_layer_sizes=[GS_hidden_layer_sizes], activation=GS_activation, solver=GS_solver, learning_rate_init=GS_learning_rate_init, max_iter=3000, random_state=1)\n",
    "scores = cross_val_score(model, x_std, y)\n",
    "\n",
    "print('Cross-Validation scores: {}'.format(scores))\n",
    "print('Average score: {}'.format(np.mean(scores)))"
   ]
  },
  {
   "cell_type": "code",
   "execution_count": null,
   "id": "2e954817",
   "metadata": {},
   "outputs": [],
   "source": []
  }
 ],
 "metadata": {
  "kernelspec": {
   "display_name": "Python 3 (ipykernel)",
   "language": "python",
   "name": "python3"
  },
  "language_info": {
   "codemirror_mode": {
    "name": "ipython",
    "version": 3
   },
   "file_extension": ".py",
   "mimetype": "text/x-python",
   "name": "python",
   "nbconvert_exporter": "python",
   "pygments_lexer": "ipython3",
   "version": "3.11.5"
  }
 },
 "nbformat": 4,
 "nbformat_minor": 5
}
