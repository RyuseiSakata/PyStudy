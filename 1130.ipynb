{
 "cells": [
  {
   "cell_type": "code",
   "execution_count": 6,
   "id": "0219d80a",
   "metadata": {},
   "outputs": [
    {
     "name": "stdout",
     "output_type": "stream",
     "text": [
      "0.972027972027972\n",
      "Best cross-validation:0.9714285714285715\n",
      "Best parameters:{'C': 1, 'gamma': 0.1}\n",
      "Test set score:0.972027972027972\n",
      "Cross-Validation scores:[0.97222222 0.97222222 0.91666667 1.         1.        ]\n",
      "Average score:0.9722222222222221\n"
     ]
    }
   ],
   "source": [
    "#非線形SVMのサンプル\n",
    "\n",
    "from sklearn import datasets\n",
    "from sklearn.model_selection import train_test_split\n",
    "from sklearn.svm import SVC\n",
    "from sklearn.model_selection import GridSearchCV\n",
    "from sklearn.model_selection import cross_val_score\n",
    "from sklearn.metrics import accuracy_score\n",
    "import numpy as np\n",
    "from sklearn.preprocessing import StandardScaler\n",
    "from sklearn.preprocessing import MinMaxScaler\n",
    "import seaborn as sns\n",
    "import matplotlib.pyplot as plt\n",
    "\n",
    "\n",
    "data = datasets.load_wine()\n",
    "x,y = data.data,data.target\n",
    "ms = MinMaxScaler()\n",
    "x_norm = ms.fit_transform(x)\n",
    "sc = StandardScaler()\n",
    "x_std = sc.fit_transform(x)\n",
    "\n",
    "x_train,x_test,y_train,y_test = train_test_split(x_std,y,test_size=0.8,stratify=y,random_state=1)\n",
    "model = SVC(kernel='rbf',random_state=1)\n",
    "model.fit(x_train,y_train)\n",
    "pred = model.predict(x_test)\n",
    "print(accuracy_score(y_test,pred))\n",
    "param_grid_rbf = {'C': [0.001, 0.01, 0.1, 1, 10, 100, 1000],'gamma': [0.001, 0.01, 0.1, 1, 10, 100, 1000]}\n",
    "grid_search = GridSearchCV(model, param_grid_rbf, cv=5)\n",
    "grid_search.fit(x_train,y_train)\n",
    "\n",
    "\n",
    "\n",
    "print('Best cross-validation:{}'.format(grid_search.best_score_))\n",
    "print('Best parameters:{}'.format(grid_search.best_params_))\n",
    "print('Test set score:{}'.format(grid_search.score(x_test,y_test)))\n",
    "\n",
    "GS_C,GS_gamma = grid_search.best_params_.values()\n",
    "model = SVC(C=GS_C, gamma = GS_gamma, kernel='rbf', random_state=1) \n",
    "scores = cross_val_score(model, x_std, y)\n",
    "\n",
    "\n",
    "print('Cross-Validation scores:{}'.format(scores))\n",
    "print('Average score:{}'.format(np.mean(scores)))\n"
   ]
  },
  {
   "cell_type": "code",
   "execution_count": 5,
   "id": "47852a29",
   "metadata": {},
   "outputs": [
    {
     "name": "stdout",
     "output_type": "stream",
     "text": [
      "0.9790209790209791\n",
      "Best cross-validation:0.9714285714285713\n",
      "Best parameters:{'C': 10, 'gamma': 0.001}\n",
      "Test set score:0.9300699300699301\n",
      "Cross-Validation scores:[0.97222222 0.94444444 0.94444444 0.97142857 0.97142857]\n",
      "Average score:0.9607936507936508\n"
     ]
    }
   ],
   "source": [
    "#線形SVMのサンプル\n",
    "\n",
    "from sklearn import datasets\n",
    "from sklearn.model_selection import train_test_split\n",
    "from sklearn.svm import SVC\n",
    "from sklearn.model_selection import GridSearchCV\n",
    "from sklearn.model_selection import cross_val_score\n",
    "from sklearn.metrics import accuracy_score\n",
    "import numpy as np\n",
    "from sklearn.preprocessing import StandardScaler\n",
    "from sklearn.preprocessing import MinMaxScaler\n",
    "import seaborn as sns\n",
    "import matplotlib.pyplot as plt\n",
    "\n",
    "\n",
    "data = datasets.load_wine()\n",
    "x,y = data.data,data.target\n",
    "ms = MinMaxScaler()\n",
    "x_norm = ms.fit_transform(x)\n",
    "sc = StandardScaler()\n",
    "x_std = sc.fit_transform(x)\n",
    "\n",
    "x_train,x_test,y_train,y_test = train_test_split(x_norm,y,test_size=0.8,stratify=y,random_state=1)\n",
    "model = SVC(kernel='linear',random_state=1)\n",
    "model.fit(x_train,y_train)\n",
    "pred = model.predict(x_test)\n",
    "print(accuracy_score(y_test,pred))\n",
    "param_grid_linear = {'C': [0.001, 0.01, 0.1, 1, 10, 100, 1000],'gamma': [0.001, 0.01, 0.1, 1, 10, 100, 1000]}\n",
    "grid_search = GridSearchCV(model, param_grid_linear, cv=5)\n",
    "grid_search.fit(x_train,y_train)\n",
    "\n",
    "\n",
    "\n",
    "print('Best cross-validation:{}'.format(grid_search.best_score_))\n",
    "print('Best parameters:{}'.format(grid_search.best_params_))\n",
    "print('Test set score:{}'.format(grid_search.score(x_test,y_test)))\n",
    "\n",
    "GS_C,GS_gamma = grid_search.best_params_.values()\n",
    "model = SVC(C=GS_C, gamma = GS_gamma, kernel='linear', random_state=1) \n",
    "scores = cross_val_score(model, x_norm, y)\n",
    "\n",
    "\n",
    "print('Cross-Validation scores:{}'.format(scores))\n",
    "print('Average score:{}'.format(np.mean(scores)))\n"
   ]
  },
  {
   "cell_type": "code",
   "execution_count": null,
   "id": "b9525dca",
   "metadata": {},
   "outputs": [],
   "source": []
  }
 ],
 "metadata": {
  "kernelspec": {
   "display_name": "Python 3 (ipykernel)",
   "language": "python",
   "name": "python3"
  },
  "language_info": {
   "codemirror_mode": {
    "name": "ipython",
    "version": 3
   },
   "file_extension": ".py",
   "mimetype": "text/x-python",
   "name": "python",
   "nbconvert_exporter": "python",
   "pygments_lexer": "ipython3",
   "version": "3.11.5"
  }
 },
 "nbformat": 4,
 "nbformat_minor": 5
}
